{
 "cells": [
  {
   "cell_type": "markdown",
   "id": "71e6e9e6",
   "metadata": {},
   "source": [
    "# The task\n",
    "\n",
    "You need to create a prototype pricing model that can go through further validation and testing before being put into production. Eventually, this model may be the basis for fully automated quoting to clients, but for now, the desk will use it with manual oversight to explore options with the client. \n",
    "\n",
    "You should write a function that is able to use the data you created previously to price the contract. The client may want to choose multiple dates to inject and withdraw a set amount of gas, so your approach should generalize the explanation from before. Consider all the cash flows involved in the product.\n",
    "\n",
    "The input parameters that should be taken into account for pricing are:\n",
    "\n",
    "1. Injection dates. \n",
    "2. Withdrawal dates.\n",
    "3. The prices at which the commodity can be purchased/sold on those dates.\n",
    "4. The rate at which the gas can be injected/withdrawn.\n",
    "5. The maximum volume that can be stored.\n",
    "6. Storage costs.\n",
    "\n",
    "Write a function that takes these inputs and gives back the value of the contract. You can assume there is no transport delay and that interest rates are zero. Market holidays, weekends, and bank holidays need not be accounted for. Test your code by selecting a few sample inputs."
   ]
  },
  {
   "cell_type": "markdown",
   "id": "9e2d696b",
   "metadata": {},
   "source": [
    "# Take the model from task 1\n",
    "\n",
    "First we take the model built in task 1 so that we can estimate the price of natual gas at any given date that is not a weekend or holiday."
   ]
  },
  {
   "cell_type": "code",
   "execution_count": 1,
   "id": "3901d313",
   "metadata": {},
   "outputs": [],
   "source": [
    "import pandas as pd\n",
    "from statsmodels.tsa.seasonal import seasonal_decompose\n",
    "from sklearn.linear_model import LinearRegression"
   ]
  },
  {
   "cell_type": "code",
   "execution_count": 2,
   "id": "25dc531a",
   "metadata": {},
   "outputs": [],
   "source": [
    "price = pd.read_csv(\"./Nat_Gas.csv\")\n",
    "price['Dates'] = pd.to_datetime(price['Dates'], format=\"%m/%d/%y\")\n",
    "price = price.set_index(\"Dates\")\n",
    "result = seasonal_decompose(price, model='additive', extrapolate_trend='freq')\n",
    "\n",
    "# train test split function\n",
    "def train_test_split(df, test_size):\n",
    "    return df[0:-test_size], df[-test_size:]"
   ]
  },
  {
   "cell_type": "code",
   "execution_count": 3,
   "id": "7c6759cb",
   "metadata": {},
   "outputs": [],
   "source": [
    "# model for trend\n",
    "df_trend = pd.DataFrame(result.trend)\n",
    "df_trend.rename(columns={'trend': 'Prices'}, inplace=True)\n",
    "\n",
    "# use the number of days from the first date in the data as predictor\n",
    "df_trend['n_days'] = [(d - df_trend.index[0]).days for d in df_trend.index]\n",
    "\n",
    "# train test split\n",
    "train_trend, test_trend = train_test_split(df_trend, 12)\n",
    "X_train_trend = train_trend['n_days'].values.reshape(-1, 1)\n",
    "y_train_trend = train_trend['Prices'].values.reshape(-1, 1)\n",
    "\n",
    "# linear regression\n",
    "model_trend = LinearRegression()\n",
    "model_trend.fit(X_train_trend, y_train_trend)\n",
    "\n",
    "# model for seasonality\n",
    "df_seasonal = pd.DataFrame(result.seasonal)\n",
    "df_seasonal.rename(columns={'seasonal': 'Prices'}, inplace=True)\n",
    "\n",
    "# use the number of days from the first date in the data as predictor\n",
    "df_seasonal['n_days'] = [(d - df_seasonal.index[0]).days for d in df_seasonal.index]\n",
    "\n",
    "# train test split\n",
    "train_seasonal, test_seasonal = train_test_split(df_seasonal, 12)\n",
    "X_train_seasonal = train_seasonal['n_days'].values\n",
    "y_train_seasonal = train_seasonal['Prices'].values\n",
    "\n",
    "# nonlinear model fit using the sine function\n",
    "import numpy as np\n",
    "from scipy.optimize import curve_fit\n",
    "def model_seasonal(x, a, b, c):\n",
    "    return a * np.sin(b * x + c)\n",
    "\n",
    "# the initial guessing of the parameters p0 is important\n",
    "params, _ = curve_fit(model_seasonal, X_train_seasonal, y_train_seasonal, p0=[0.5, 2*np.pi/365, 0])"
   ]
  },
  {
   "cell_type": "markdown",
   "id": "d9dbfa08",
   "metadata": {},
   "source": [
    "# Estimated price for any date\n",
    "\n",
    "I will use the combined tread and seasonality model to estimate the natural gas price for any date since the first date in the dataset."
   ]
  },
  {
   "cell_type": "code",
   "execution_count": 4,
   "id": "270c4bb5",
   "metadata": {},
   "outputs": [],
   "source": [
    "from datetime import datetime\n",
    "from pandas.tseries.holiday import USFederalHolidayCalendar\n",
    "calendar = USFederalHolidayCalendar()\n",
    "holidays = calendar.holidays(start='2023-01-01', end='2026-12-31')\n",
    "\n",
    "# Combine the models for trend and seasonality\n",
    "def get_price(any_date: str) -> float:\n",
    "    '''\n",
    "    params:\n",
    "        any_date (str): input date string in the format of 'YYYY-MM-DD'\n",
    "    \n",
    "    return:\n",
    "        The natural gas' price on that date in float. If the input date is a weekend \n",
    "        or holiday, return -1.\n",
    "    '''\n",
    "    date = datetime.strptime(any_date, '%Y-%m-%d')\n",
    "    # check if it is a weekend or holiday\n",
    "    if date.weekday() >= 5 or date in holidays:\n",
    "        return -1\n",
    "    # if the date is in the original dataset, use the original data\n",
    "    elif date in price.index:\n",
    "        return price.loc[date].Prices\n",
    "    else:\n",
    "        n_days = np.array([(date - price.index[0]).days])\n",
    "        estimation = model_trend.predict(n_days.reshape(-1, 1)).reshape(len(n_days)) + \\\n",
    "                        model_seasonal(n_days, params[0], params[1], params[2])\n",
    "        return round(estimation[0], 1)"
   ]
  },
  {
   "cell_type": "code",
   "execution_count": 5,
   "id": "0e72da00",
   "metadata": {},
   "outputs": [],
   "source": [
    "from typing import Dict\n",
    "def contract(injection: Dict, withdrawal: Dict, max_vol: float, storage_cost: float, transport_cost: float) -> float:\n",
    "    '''\n",
    "    Calculate the contract price using the input parameters.\n",
    "    \n",
    "    params:\n",
    "        injection (Dict):     A dictionary that contains dates ('YYYY-MM-DD'), rate (million MMBtu per day), \n",
    "                                cost (dollars amount per million MMBtu)\n",
    "        withdrawal (Dict):    A dictionary that contains dates ('YYYY-MM-DD'), rate (million MMBtu per day), \n",
    "                                cost (dollars amount per million MMBtu)\n",
    "        max_vol (float):      Maximum volumn of the storage facility (million MMBtu)\n",
    "        storage_cost (float): dollars amount per day\n",
    "        transport_cost (float): dollars amount per to/from the storage facility\n",
    "    \n",
    "    return:\n",
    "        dollars of the contract price if profitable, otherwise return a message saying not profitable.\n",
    "    '''\n",
    "    # assume the storage facility is empty before the first injection;\n",
    "    # the client is sensible: always buy at low-price seasons and sell at high-price seasons;\n",
    "    # to calculate storage cost, calculate the number of days between the withdrawal date\n",
    "    # that empties the storage and the first injection date, and then re-count from the next injection date;\n",
    "    # to be fair, we will share the profit with the client 50/50\n",
    "    total_vol = 0\n",
    "    total_purchase_cost = 0\n",
    "    total_injection_cost = 0\n",
    "    total_withdrawal_income = 0\n",
    "    total_withdrawal_cost = 0\n",
    "    total_transport_cost = 0\n",
    "    total_storage_cost = 0\n",
    "    all_dates = sorted(injection['dates'] + withdrawal['dates'])\n",
    "    injection_in_holiday = []\n",
    "    withdrawal_in_holiday = []\n",
    "    for date in all_dates:\n",
    "        price = get_price(date)\n",
    "        if date in injection['dates']:\n",
    "            if max_vol - total_vol >= injection['rate'] and price > -1:\n",
    "                if total_vol == 0:\n",
    "                    # first injection date of this round\n",
    "                    first_injection_date = datetime.strptime(date, '%Y-%m-%d')\n",
    "                total_vol += injection['rate']\n",
    "                total_purchase_cost += price * injection['rate'] * 1e6\n",
    "                total_injection_cost += injection['cost'] * injection['rate']\n",
    "                total_transport_cost += transport_cost\n",
    "            elif max_vol > total_vol and max_vol - total_vol < injection['rate'] and price > -1:\n",
    "                total_vol = max_vol\n",
    "                total_purchase_cost += price * (max_vol - total_vol) * 1e6\n",
    "                total_injection_cost += injection['cost'] * (max_vol - total_vol)\n",
    "                total_transport_cost += transport_cost\n",
    "            elif price == -1:\n",
    "                injection_in_holiday.append(date)\n",
    "        elif date in withdrawal['dates']:\n",
    "            if total_vol >= withdrawal['rate'] and price > -1:\n",
    "                total_vol -= withdrawal['rate']\n",
    "                if total_vol == 0:\n",
    "                    last_withdrawal_date = datetime.strptime(date, '%Y-%m-%d')\n",
    "                    total_storage_cost += storage_cost * (last_withdrawal_date - first_injection_date).days\n",
    "                total_withdrawal_income += price * withdrawal['rate'] * 1e6\n",
    "                total_withdrawal_cost += withdrawal['cost'] * withdrawal['rate']\n",
    "                total_transport_cost += transport_cost\n",
    "            elif total_vol > 0 and total_vol < withdrawal['rate'] and price > -1:\n",
    "                total_vol = 0\n",
    "                last_withdrawal_date = datetime.strptime(date, '%Y-%m-%d')\n",
    "                total_storage_cost += storage_cost * (last_withdrawal_date - first_injection_date).days\n",
    "                total_withdrawal_income += price * total_vol * 1e6\n",
    "                total_withdrawal_cost += withdrawal['cost'] * total_vol\n",
    "                total_transport_cost += transport_cost\n",
    "            elif price == -1:\n",
    "                withdrawal_in_holiday.append(date)\n",
    "    contract_price = (total_withdrawal_income - total_purchase_cost - total_injection_cost - total_withdrawal_cost - \n",
    "                        total_transport_cost - total_storage_cost) / 2\n",
    "    print(f\"Total purchase cost: {total_purchase_cost}\")\n",
    "    print(f\"Total storage cost: {total_storage_cost}\")\n",
    "    print(f\"Total transport cost: {total_transport_cost}\")\n",
    "    print(f\"Total withdrawal cost: {total_withdrawal_cost}\")\n",
    "    print(f\"Total injection cost: {total_injection_cost}\")\n",
    "    print(f\"Total selling income: {total_withdrawal_income}\")\n",
    "    if len(injection_in_holiday) > 0:\n",
    "        print(f\"These injection dates are either in weekends or holidays: {', '.join(injection_in_holiday)}.\" + \n",
    "             f\" Please take them out from contract.\")\n",
    "    if len(withdrawal_in_holiday) > 0:\n",
    "        print(f\"These withdrawal dates are either in weekends or holidays: {', '.join(withdrawal_in_holiday)}.\" + \n",
    "             f\" Please take them out from contract.\")\n",
    "    if contract_price > 0:\n",
    "        return contract_price\n",
    "    else:\n",
    "        print(\"Not profitable probably because some injection/withdrawal dates are in holidays.\")"
   ]
  },
  {
   "cell_type": "code",
   "execution_count": 6,
   "id": "4f945f7e",
   "metadata": {},
   "outputs": [
    {
     "name": "stdout",
     "output_type": "stream",
     "text": [
      "Total purchase cost: 32900000.0\n",
      "Total storage cost: 528000\n",
      "Total transport cost: 300000\n",
      "Total withdrawal cost: 30000\n",
      "Total injection cost: 30000\n",
      "Total selling income: 36600000.0\n"
     ]
    },
    {
     "data": {
      "text/plain": [
       "1406000.0"
      ]
     },
     "execution_count": 6,
     "metadata": {},
     "output_type": "execute_result"
    }
   ],
   "source": [
    "# test 1\n",
    "injection = {\n",
    "    'dates': ['2023-06-27', '2023-06-28', '2023-06-30'],\n",
    "    'rate': 1, # million MMBtu per day \n",
    "    'cost': 10000 # dollars per million MMBtu\n",
    "}\n",
    "withdrawal = {\n",
    "    'dates': ['2023-11-30', '2023-12-01', '2023-12-04'],\n",
    "    'rate': 1, # million MMBtu per day\n",
    "    'cost': 10000 # dollars per million MMBtu\n",
    "}\n",
    "max_vol = 10 # million MMBtu\n",
    "storage_cost = 3300 # dollars per day\n",
    "transport_cost = 50000 # dollars per transportation to / from storage facility\n",
    "contract(injection, withdrawal, max_vol, storage_cost, transport_cost)"
   ]
  },
  {
   "cell_type": "code",
   "execution_count": 7,
   "id": "6ddfc67e",
   "metadata": {},
   "outputs": [
    {
     "name": "stdout",
     "output_type": "stream",
     "text": [
      "Total purchase cost: 32900000.0\n",
      "Total storage cost: 0\n",
      "Total transport cost: 250000\n",
      "Total withdrawal cost: 20000\n",
      "Total injection cost: 30000\n",
      "Total selling income: 24400000.0\n",
      "These injection dates are either in weekends or holidays: 2023-07-01. Please take them out from contract.\n",
      "These withdrawal dates are either in weekends or holidays: 2023-12-02, 2023-12-03. Please take them out from contract.\n",
      "Not profitable probably because some injection/withdrawal dates are in holidays.\n"
     ]
    }
   ],
   "source": [
    "# test 2\n",
    "injection = {\n",
    "    'dates': ['2023-06-27', '2023-06-28', '2023-06-30', '2023-07-01'],\n",
    "    'rate': 1, # million MMBtu per day \n",
    "    'cost': 10000 # dollars per million MMBtu\n",
    "}\n",
    "withdrawal = {\n",
    "    'dates': ['2023-11-30', '2023-12-01', '2023-12-02', '2023-12-03'],\n",
    "    'rate': 1, # million MMBtu per day\n",
    "    'cost': 10000 # dollars per million MMBtu\n",
    "}\n",
    "max_vol = 10 # million MMBtu\n",
    "storage_cost = 3300 # dollars per day\n",
    "transport_cost = 50000 # dollars per transportation to / from storage facility\n",
    "contract(injection, withdrawal, max_vol, storage_cost, transport_cost)"
   ]
  },
  {
   "cell_type": "code",
   "execution_count": 8,
   "id": "9afaffb1",
   "metadata": {},
   "outputs": [
    {
     "name": "stdout",
     "output_type": "stream",
     "text": [
      "Total purchase cost: 32900000.0\n",
      "Total storage cost: 528000\n",
      "Total transport cost: 300000\n",
      "Total withdrawal cost: 30000\n",
      "Total injection cost: 30000\n",
      "Total selling income: 36600000.0\n",
      "These injection dates are either in weekends or holidays: 2023-07-01, 2023-07-02. Please take them out from contract.\n",
      "These withdrawal dates are either in weekends or holidays: 2023-12-02, 2023-12-03. Please take them out from contract.\n"
     ]
    },
    {
     "data": {
      "text/plain": [
       "1406000.0"
      ]
     },
     "execution_count": 8,
     "metadata": {},
     "output_type": "execute_result"
    }
   ],
   "source": [
    "# test 3\n",
    "injection = {\n",
    "    'dates': ['2023-06-27', '2023-06-28', '2023-06-30', '2023-07-01', '2023-07-02'],\n",
    "    'rate': 1, # million MMBtu per day \n",
    "    'cost': 10000 # dollars per million MMBtu\n",
    "}\n",
    "withdrawal = {\n",
    "    'dates': ['2023-11-30', '2023-12-01', '2023-12-02', '2023-12-03', '2023-12-04'],\n",
    "    'rate': 1, # million MMBtu per day\n",
    "    'cost': 10000 # dollars per million MMBtu\n",
    "}\n",
    "max_vol = 10 # million MMBtu\n",
    "storage_cost = 3300 # dollars per day\n",
    "transport_cost = 50000 # dollars per transportation to / from storage facility\n",
    "contract(injection, withdrawal, max_vol, storage_cost, transport_cost)"
   ]
  }
 ],
 "metadata": {
  "kernelspec": {
   "display_name": "Python 3 (ipykernel)",
   "language": "python",
   "name": "python3"
  },
  "language_info": {
   "codemirror_mode": {
    "name": "ipython",
    "version": 3
   },
   "file_extension": ".py",
   "mimetype": "text/x-python",
   "name": "python",
   "nbconvert_exporter": "python",
   "pygments_lexer": "ipython3",
   "version": "3.11.3"
  }
 },
 "nbformat": 4,
 "nbformat_minor": 5
}
